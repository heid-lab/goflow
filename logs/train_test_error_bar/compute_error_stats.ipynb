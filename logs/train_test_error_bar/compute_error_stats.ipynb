{
 "cells": [
  {
   "cell_type": "code",
   "execution_count": 1,
   "id": "b9d0c0a0",
   "metadata": {
    "tags": []
   },
   "outputs": [],
   "source": [
    "import numpy as np\n",
    "import pandas as pd"
   ]
  },
  {
   "cell_type": "code",
   "execution_count": 2,
   "id": "53a7c4b3",
   "metadata": {
    "tags": []
   },
   "outputs": [],
   "source": [
    "df = pd.read_csv('stats.csv')"
   ]
  },
  {
   "cell_type": "code",
   "execution_count": 3,
   "id": "4d789fb8",
   "metadata": {
    "tags": []
   },
   "outputs": [
    {
     "data": {
      "text/plain": [
       "mae            0.108\n",
       "angle_error    3.688\n",
       "dtype: float64"
      ]
     },
     "execution_count": 3,
     "metadata": {},
     "output_type": "execute_result"
    }
   ],
   "source": [
    "df[['mae', 'angle_error']].median()"
   ]
  },
  {
   "cell_type": "code",
   "execution_count": 4,
   "id": "6be5669d",
   "metadata": {
    "tags": []
   },
   "outputs": [
    {
     "name": "stdout",
     "output_type": "stream",
     "text": [
      "          mae  angle_error\n",
      "0.25  0.10775      3.63425\n",
      "0.50  0.10800      3.68800\n",
      "0.75  0.11100      3.79675\n",
      "mae            0.00325\n",
      "angle_error    0.16250\n",
      "dtype: float64\n"
     ]
    }
   ],
   "source": [
    "print(df[['mae', 'angle_error']].quantile([0.25, 0.50, 0.75]))\n",
    "q = df[['mae', 'angle_error']].quantile([0.25, 0.75])\n",
    "iqr = q.loc[0.75] - q.loc[0.25]\n",
    "print(iqr)"
   ]
  },
  {
   "cell_type": "code",
   "execution_count": 5,
   "id": "46134c9c",
   "metadata": {
    "tags": []
   },
   "outputs": [
    {
     "name": "stdout",
     "output_type": "stream",
     "text": [
      "GoFlow Results (Median):\n",
      "MAE: 0.108\n",
      "Bond Angle Error: 3.69\n",
      "Runtime (seconds): 0.140\n",
      "\n",
      "Interquartile Range (IQR):\n",
      "MAE: 0.003\n",
      "Bond Angle Error: 0.16\n",
      "Runtime: 0.000\n",
      "\n",
      "Median Absolute Deviation (MAD):\n",
      "MAE: 0.002\n",
      "Bond Angle Error: 0.06\n",
      "Runtime: 0.000\n"
     ]
    }
   ],
   "source": [
    "# Calculate median\n",
    "median_values = df.median()\n",
    "\n",
    "# Calculate IQR (difference between 75th and 25th percentiles)\n",
    "q1 = df.quantile(0.25)\n",
    "q3 = df.quantile(0.75)\n",
    "iqr = q3 - q1\n",
    "\n",
    "# Calculate MAD (Median Absolute Deviation)\n",
    "def mad(data):\n",
    "    # MAD = median(|Xi - median(X)|)\n",
    "    return np.median(np.abs(data - np.median(data)))\n",
    "\n",
    "mad_values = pd.Series({col: mad(df[col]) for col in df.columns})\n",
    "\n",
    "# TsDiff result (no error bar)\n",
    "tsdiff_values = {\n",
    "    'mae': 0.164,\n",
    "    'angle_error': 4.37,\n",
    "    'time': 1544 / 1000  # Converting milliseconds to seconds for consistency\n",
    "}\n",
    "\n",
    "# Print the results\n",
    "print(\"GoFlow Results (Median):\")\n",
    "print(f\"MAE: {median_values['mae']:.3f}\")\n",
    "print(f\"Bond Angle Error: {median_values['angle_error']:.2f}\")\n",
    "print(f\"Runtime (seconds): {median_values['time']:.3f}\")\n",
    "\n",
    "print(\"\\nInterquartile Range (IQR):\")\n",
    "print(f\"MAE: {iqr['mae']:.3f}\")\n",
    "print(f\"Bond Angle Error: {iqr['angle_error']:.2f}\")\n",
    "print(f\"Runtime: {iqr['time']:.3f}\")\n",
    "\n",
    "print(\"\\nMedian Absolute Deviation (MAD):\")\n",
    "print(f\"MAE: {mad_values['mae']:.3f}\")\n",
    "print(f\"Bond Angle Error: {mad_values['angle_error']:.2f}\")\n",
    "print(f\"Runtime: {mad_values['time']:.3f}\")\n",
    "\n",
    "# Create LaTeX tables with different error reporting methods\n",
    "\n",
    "# 1. Table with IQR\n",
    "latex_table_iqr = r\"\"\"\n",
    "\\begin{table}[h]\n",
    "    \\centering\n",
    "    \\begin{tabular}{lccc}\n",
    "        \\toprule\n",
    "        Method & D-MAE & Bond Angle & Runtime (ms) \\\\\n",
    "        \\midrule\n",
    "        \\textsc{GoFlow} & $%.3f \\pm %.3f$ & $%.2f \\pm %.2f$ & $%.1f \\pm %.1f$ \\\\\n",
    "        \\textsc{TsDiff} & $%.3f$ & $%.2f$ & $%.1f$ \\\\\n",
    "        \\bottomrule\n",
    "    \\end{tabular}\n",
    "    \\caption{Performance metrics of \\textsc{GoFlow}, with 25 ODE solver steps and 50 samples per run (median of 5 runs with interquartile range), vs. \\textsc{TsDiff}. The units for D-MAE are angstroms, degrees for Bond Angle, and milliseconds for Runtime.}\n",
    "    \\label{tab:goflow_vs_tsdiff_median_iqr}\n",
    "\\end{table}\n",
    "\"\"\" % (\n",
    "    median_values['mae'], iqr['mae'],\n",
    "    median_values['angle_error'], iqr['angle_error'],\n",
    "    median_values['time'] * 1000, iqr['time'] * 1000,\n",
    "    tsdiff_values['mae'],\n",
    "    tsdiff_values['angle_error'],\n",
    "    tsdiff_values['time'] * 1000\n",
    ")\n",
    "\n",
    "# 2. Table with Median Absolute Deviation\n",
    "latex_table_mad = r\"\"\"\n",
    "\\begin{table}[h]\n",
    "    \\centering\n",
    "    \\begin{tabular}{lccc}\n",
    "        \\toprule\n",
    "        Method & D-MAE & Bond Angle & Runtime (ms) \\\\\n",
    "        \\midrule\n",
    "        \\textsc{GoFlow} & $%.3f \\pm %.3f$ & $%.2f \\pm %.2f$ & $%.1f \\pm %.1f$ \\\\\n",
    "        \\textsc{TsDiff} & $%.3f$ & $%.2f$ & $%.1f$ \\\\\n",
    "        \\bottomrule\n",
    "    \\end{tabular}\n",
    "    \\caption{Performance metrics of \\textsc{GoFlow}, with 25 ODE solver steps and 50 samples per run (median of 5 runs with median absolute deviation), vs. \\textsc{TsDiff}. The units for D-MAE are angstroms, degrees for Bond Angle, and milliseconds for Runtime.}\n",
    "    \\label{tab:goflow_vs_tsdiff_median_mad}\n",
    "\\end{table}\n",
    "\"\"\" % (\n",
    "    median_values['mae'], mad_values['mae'],\n",
    "    median_values['angle_error'], mad_values['angle_error'],\n",
    "    median_values['time'] * 1000, mad_values['time'] * 1000,\n",
    "    tsdiff_values['mae'],\n",
    "    tsdiff_values['angle_error'],\n",
    "    tsdiff_values['time'] * 1000\n",
    ")"
   ]
  },
  {
   "cell_type": "code",
   "execution_count": 6,
   "id": "5d04e00c",
   "metadata": {
    "tags": []
   },
   "outputs": [
    {
     "name": "stdout",
     "output_type": "stream",
     "text": [
      "\n",
      "LaTeX Table with Interquartile Range:\n",
      "\n",
      "\\begin{table}[h]\n",
      "    \\centering\n",
      "    \\begin{tabular}{lccc}\n",
      "        \\toprule\n",
      "        Method & D-MAE & Bond Angle & Runtime (ms) \\\\\n",
      "        \\midrule\n",
      "        \\textsc{GoFlow} & $0.108 \\pm 0.003$ & $3.69 \\pm 0.16$ & $140.0 \\pm 0.0$ \\\\\n",
      "        \\textsc{TsDiff} & $0.164$ & $4.37$ & $1544.0$ \\\\\n",
      "        \\bottomrule\n",
      "    \\end{tabular}\n",
      "    \\caption{Performance metrics of \\textsc{GoFlow}, with 25 ODE solver steps and 50 samples per run (median of 5 runs with interquartile range), vs. \\textsc{TsDiff}. The units for D-MAE are angstroms, degrees for Bond Angle, and milliseconds for Runtime.}\n",
      "    \\label{tab:goflow_vs_tsdiff_median_iqr}\n",
      "\\end{table}\n",
      "\n",
      "\n",
      "LaTeX Table with Median Absolute Deviation:\n",
      "\n",
      "\\begin{table}[h]\n",
      "    \\centering\n",
      "    \\begin{tabular}{lccc}\n",
      "        \\toprule\n",
      "        Method & D-MAE & Bond Angle & Runtime (ms) \\\\\n",
      "        \\midrule\n",
      "        \\textsc{GoFlow} & $0.108 \\pm 0.002$ & $3.69 \\pm 0.06$ & $140.0 \\pm 0.0$ \\\\\n",
      "        \\textsc{TsDiff} & $0.164$ & $4.37$ & $1544.0$ \\\\\n",
      "        \\bottomrule\n",
      "    \\end{tabular}\n",
      "    \\caption{Performance metrics of \\textsc{GoFlow}, with 25 ODE solver steps and 50 samples per run (median of 5 runs with median absolute deviation), vs. \\textsc{TsDiff}. The units for D-MAE are angstroms, degrees for Bond Angle, and milliseconds for Runtime.}\n",
      "    \\label{tab:goflow_vs_tsdiff_median_mad}\n",
      "\\end{table}\n",
      "\n"
     ]
    }
   ],
   "source": [
    "print(\"\\nLaTeX Table with Interquartile Range:\")\n",
    "print(latex_table_iqr)\n",
    "\n",
    "print(\"\\nLaTeX Table with Median Absolute Deviation:\")\n",
    "print(latex_table_mad)"
   ]
  }
 ],
 "metadata": {
  "kernelspec": {
   "display_name": "Python 3 (ipykernel)",
   "language": "python",
   "name": "python3"
  },
  "language_info": {
   "codemirror_mode": {
    "name": "ipython",
    "version": 3
   },
   "file_extension": ".py",
   "mimetype": "text/x-python",
   "name": "python",
   "nbconvert_exporter": "python",
   "pygments_lexer": "ipython3",
   "version": "3.10.14"
  }
 },
 "nbformat": 4,
 "nbformat_minor": 5
}
